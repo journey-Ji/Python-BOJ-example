{
  "nbformat": 4,
  "nbformat_minor": 0,
  "metadata": {
    "colab": {
      "name": "BOJ_정렬.ipynb",
      "provenance": [],
      "collapsed_sections": [],
      "authorship_tag": "ABX9TyNUP5jdJ1N8NKMggjZJjG1t",
      "include_colab_link": true
    },
    "kernelspec": {
      "name": "python3",
      "display_name": "Python 3"
    }
  },
  "cells": [
    {
      "cell_type": "markdown",
      "metadata": {
        "id": "view-in-github",
        "colab_type": "text"
      },
      "source": [
        "<a href=\"https://colab.research.google.com/github/journey-Ji/Python-BOJ-example/blob/main/BOJ_%EC%A0%95%EB%A0%AC.ipynb\" target=\"_parent\"><img src=\"https://colab.research.google.com/assets/colab-badge.svg\" alt=\"Open In Colab\"/></a>"
      ]
    },
    {
      "cell_type": "code",
      "metadata": {
        "id": "eS1fU40gk93N"
      },
      "source": [
        "#By JourneyJi\n",
        "#수 정렬하기1\n",
        "\n",
        "\n",
        "#N개의 수가 주어졌을 때, 이를 오름차순으로 정렬하는 프로그램을 작성하시오.\n",
        "#버블 정렬을 이용해 보자.\n",
        "num_list =[]\n",
        "temp=0\n",
        "for _ in range(int(input())):\n",
        "  num_list.append(int(input()))\n",
        "\n",
        "for i in range(len(num_list)-1):\n",
        "  for j in range(i+1,len(num_list)):\n",
        "      if num_list[i] > num_list[j]:\n",
        "          num_list[i], num_list[j] = num_list[j], num_list[i]\n",
        "\n",
        "for i in range(len(num_list)):\n",
        "    print(num_list[i])\n",
        "\n",
        "\n",
        "\n",
        "\n"
      ],
      "execution_count": null,
      "outputs": []
    },
    {
      "cell_type": "code",
      "metadata": {
        "id": "h_uHzXh1r2rB"
      },
      "source": [
        "#By JourneyJi\n",
        "#수 정렬하기2\n",
        "\n",
        "#\n",
        "# nlogn의 시간이 걸리는 정렬방법이 뭐가 있을까\n",
        "# 합병정렬, 빠른정렬\n",
        "\n",
        "\n",
        "#\n",
        "\n",
        "# 위의 방식을 문법화 하자.\n",
        "\n",
        "# 수 입력받기\n",
        "num_list =[]\n",
        "for _ in range(int(input())):\n",
        "  num_list.append(int(input()))\n",
        "\n",
        "\n",
        "\n",
        "for \n"
      ],
      "execution_count": null,
      "outputs": []
    },
    {
      "cell_type": "code",
      "metadata": {
        "id": "c_8nYmPn2ljv"
      },
      "source": [
        ""
      ],
      "execution_count": null,
      "outputs": []
    }
  ]
}