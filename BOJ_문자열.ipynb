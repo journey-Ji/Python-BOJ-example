{
  "nbformat": 4,
  "nbformat_minor": 0,
  "metadata": {
    "colab": {
      "name": "BOJ_문자열.ipynb",
      "provenance": [],
      "collapsed_sections": [],
      "authorship_tag": "ABX9TyN7mWZZ4z6acV+rOtSBvTYH",
      "include_colab_link": true
    },
    "kernelspec": {
      "name": "python3",
      "display_name": "Python 3"
    }
  },
  "cells": [
    {
      "cell_type": "markdown",
      "metadata": {
        "id": "view-in-github",
        "colab_type": "text"
      },
      "source": [
        "<a href=\"https://colab.research.google.com/github/journey-Ji/Python-BOJ-example/blob/main/BOJ_%EB%AC%B8%EC%9E%90%EC%97%B4.ipynb\" target=\"_parent\"><img src=\"https://colab.research.google.com/assets/colab-badge.svg\" alt=\"Open In Colab\"/></a>"
      ]
    },
    {
      "cell_type": "code",
      "metadata": {
        "colab": {
          "base_uri": "https://localhost:8080/"
        },
        "id": "sq-nNPqyj-68",
        "outputId": "78a94ef6-5c45-4fff-a9a8-2a1396c4e797"
      },
      "source": [
        "#By JourneyJi\n",
        "#아스키 코드\n",
        "\n",
        "#문자열 입력\n",
        "character = input()\n",
        "\n",
        "# 아스키코드로 변환하여 출력\n",
        "print(ord(character))"
      ],
      "execution_count": null,
      "outputs": [
        {
          "output_type": "stream",
          "text": [
            "z\n",
            "122\n"
          ],
          "name": "stdout"
        }
      ]
    },
    {
      "cell_type": "code",
      "metadata": {
        "colab": {
          "base_uri": "https://localhost:8080/"
        },
        "id": "VE6iSDopkP2X",
        "outputId": "0cd67c08-d77f-47c9-8bd4-5dd6ca40162e"
      },
      "source": [
        "#By JourneyJi\n",
        "#숫자의 합\n",
        "\n",
        "# 숫자의 개수 입력\n",
        "n = int(input())\n",
        "# 숫자 N개 입력 공백없이 입력\n",
        "numbers= input()\n",
        "total = 0\n",
        "for i in range(n):\n",
        "  total = total + int(numbers[i])\n",
        "\n",
        "print(total)\n"
      ],
      "execution_count": null,
      "outputs": [
        {
          "output_type": "stream",
          "text": [
            "11\n",
            "10987654321\n",
            "46\n"
          ],
          "name": "stdout"
        }
      ]
    },
    {
      "cell_type": "code",
      "metadata": {
        "colab": {
          "base_uri": "https://localhost:8080/"
        },
        "id": "A4IqTn5DlHb4",
        "outputId": "d1e583cc-e815-4449-e212-b6199a3e5a1c"
      },
      "source": [
        "#By JourneyJi\n",
        "#알파벳 찾기\n",
        "\n",
        "#알파벳 소문자로 이루어진 단어S 입력\n",
        "S = input()\n",
        "\n",
        "#a,b,c,...,z까지 처음 등장하는 위치를 출력한다. #ASCII CODE로 a=97, z=122\n",
        "\n",
        "for i in range(97,123):\n",
        "  print(S.find(chr(i)), end =' ')"
      ],
      "execution_count": null,
      "outputs": [
        {
          "output_type": "stream",
          "text": [
            "baekjoon\n",
            "1 0 -1 -1 2 -1 -1 -1 -1 4 3 -1 -1 7 5 -1 -1 -1 -1 -1 -1 -1 -1 -1 -1 -1 "
          ],
          "name": "stdout"
        }
      ]
    },
    {
      "cell_type": "code",
      "metadata": {
        "colab": {
          "base_uri": "https://localhost:8080/"
        },
        "id": "CNwkaTjDnOBa",
        "outputId": "e6013a9c-137e-412d-e4b5-8efe9da84aa8"
      },
      "source": [
        "#By JourneyJi\n",
        "#문자열 반복\n",
        "\n",
        "#the number of test case 입력\n",
        "test_case = int(input())\n",
        "\n",
        "#문자열S 입력 //반복횟수와 문자열이 공백으로 나뉨\n",
        "\n",
        "for n in range(test_case):\n",
        "  S = input() #문자열로 받아들이기\n",
        "  P = ''\n",
        "  for i in range(2,len(S)):\n",
        "    R = S[i]*int(S[0])\n",
        "    P = P + R\n",
        "  print(P)"
      ],
      "execution_count": null,
      "outputs": [
        {
          "output_type": "stream",
          "text": [
            "2\n",
            "3 ABC\n",
            "AAABBBCCC\n",
            "5 /HTP\n",
            "/////HHHHHTTTTTPPPPP\n"
          ],
          "name": "stdout"
        }
      ]
    },
    {
      "cell_type": "code",
      "metadata": {
        "colab": {
          "base_uri": "https://localhost:8080/"
        },
        "id": "q44N4xA0rSCD",
        "outputId": "1f34ba11-ac2a-4b1b-9c38-8790e3239382"
      },
      "source": [
        "#By JourneyJi\n",
        "#단어 공부\n",
        "\n",
        "#대문자와 소문자 구분 X\n",
        "#단어 입력\n",
        "CHR = input()\n",
        "\n",
        "\n",
        "#ascii code 리스트 생성\n",
        "ascii_1 = []\n",
        "ascii_2 = []\n",
        "for i in range(97,123):\n",
        "  ascii_1.append(i) #총 26자 저장\n",
        "for i in range(65,91):\n",
        "  ascii_2.append(i)\n",
        "\n",
        "#변수 설정\n",
        "cnt = []\n",
        "ascii_code = 0\n",
        "for _ in range(26):\n",
        "  cnt.append(0) # 총 26개의 인덱스를 가진 리스트 생성\n",
        "\n",
        "for i in range(len(CHR)):\n",
        "    ascii_code = ord(CHR[i])\n",
        "    for j in range(26):\n",
        "      if ascii_code == ascii_1[j]:\n",
        "        cnt[j] = cnt[j] + 1\n",
        "      elif ascii_code == ascii_2[j]:\n",
        "        cnt[j] = cnt[j] + 1\n",
        "\n",
        "if cnt.count(max(cnt)) >1:\n",
        "  print('?')\n",
        "else:\n",
        "  print(chr(cnt.index(max(cnt))+65))"
      ],
      "execution_count": null,
      "outputs": [
        {
          "output_type": "stream",
          "text": [
            "baaa\n",
            "A\n"
          ],
          "name": "stdout"
        }
      ]
    },
    {
      "cell_type": "code",
      "metadata": {
        "colab": {
          "base_uri": "https://localhost:8080/"
        },
        "id": "LAZutC35v1Mc",
        "outputId": "17973e32-4851-4105-b6e1-1af538786652"
      },
      "source": [
        "#By JourneyJi\n",
        "#단어의 개수\n",
        "\n",
        "#문자열 입력\n",
        "sentence = input().strip().split()\n",
        "\n",
        "print(len(sentence))\n"
      ],
      "execution_count": null,
      "outputs": [
        {
          "output_type": "stream",
          "text": [
            "Teullinika Teullyeotzi \n",
            "2\n"
          ],
          "name": "stdout"
        }
      ]
    },
    {
      "cell_type": "code",
      "metadata": {
        "colab": {
          "base_uri": "https://localhost:8080/"
        },
        "id": "ZOaV1B-__Ll0",
        "outputId": "a0687a65-563f-4f2b-91c2-eb2faffd19f4"
      },
      "source": [
        "#By JourneyJi\n",
        "#상수\n",
        "\n",
        "#두 수 입력\n",
        "numbers = input().split()\n",
        "\n",
        "A = numbers[0][::-1]\n",
        "B = numbers[1][::-1]\n",
        "\n",
        "if int(A) > int(B):\n",
        "  print(A)\n",
        "else:\n",
        "  print(B)"
      ],
      "execution_count": null,
      "outputs": [
        {
          "output_type": "stream",
          "text": [
            "734 893\n",
            "437\n"
          ],
          "name": "stdout"
        }
      ]
    },
    {
      "cell_type": "code",
      "metadata": {
        "colab": {
          "base_uri": "https://localhost:8080/"
        },
        "id": "LMKph1bRAISm",
        "outputId": "92fd468b-c294-416e-bea5-3d9f3b5bc3b9"
      },
      "source": [
        "#By JourneyJi\n",
        "#다이얼\n",
        "\n",
        "#대문자열 입력받기\n",
        "character = input()\n",
        "#각 알파벳에 대하여 걸리는 시간리스트 작성\n",
        "time_to_dial = 0\n",
        "count = 0\n",
        "#입력받은 문자의 길이만큼 반복문\n",
        "for i in range(len(character)):\n",
        "  if character[i] =='A' or character[i] =='B' or character[i] =='C':\n",
        "    time_to_dial = time_to_dial + 3\n",
        "  elif character[i] =='D' or character[i] =='E' or character[i] =='F':\n",
        "    time_to_dial = time_to_dial + 4\n",
        "  elif character[i] =='G' or character[i] =='H' or character[i] =='I':\n",
        "    time_to_dial = time_to_dial + 5\n",
        "  elif character[i] =='J' or character[i] =='K' or character[i] =='L':\n",
        "    time_to_dial = time_to_dial + 6\n",
        "  elif character[i] =='M' or character[i] =='N' or character[i] =='O':\n",
        "    time_to_dial = time_to_dial + 7\n",
        "  elif character[i] =='P' or character[i] =='Q' or character[i] =='R' or character[i] =='S':\n",
        "    time_to_dial = time_to_dial + 8  \n",
        "  elif character[i] =='T' or character[i] =='U' or character[i] =='V':\n",
        "    time_to_dial = time_to_dial + 9\n",
        "  else:\n",
        "    time_to_dial = time_to_dial + 10\n",
        "\n",
        "print(time_to_dial)\n"
      ],
      "execution_count": null,
      "outputs": [
        {
          "output_type": "stream",
          "text": [
            "UNUCIC\n",
            "36\n"
          ],
          "name": "stdout"
        }
      ]
    },
    {
      "cell_type": "code",
      "metadata": {
        "colab": {
          "base_uri": "https://localhost:8080/"
        },
        "id": "l5AKixpuEF9m",
        "outputId": "ad9a9ad4-2dd9-429a-dc38-ba6e8ad42c5f"
      },
      "source": [
        "test = 'FFA'\n",
        "cnt = 0\n",
        "for i in range(len(test)):\n",
        "  print(test[i])\n",
        "  if test[i] =='D' or test[i] =='E' or test[i] =='F':\n",
        "    cnt = cnt + 4\n",
        "  else:\n",
        "    cnt = cnt + 3\n",
        "print(cnt)"
      ],
      "execution_count": null,
      "outputs": [
        {
          "output_type": "stream",
          "text": [
            "F\n",
            "F\n",
            "A\n",
            "11\n"
          ],
          "name": "stdout"
        }
      ]
    },
    {
      "cell_type": "code",
      "metadata": {
        "colab": {
          "base_uri": "https://localhost:8080/"
        },
        "id": "db_WlTTYJgp_",
        "outputId": "28ab7fc4-118b-40d9-cda5-5e86e0def452"
      },
      "source": [
        "#By JourneyJi\n",
        "#크로아티아 알파벳\n",
        "\n",
        "#단어 입력\n",
        "character = input()\n",
        "total_cnt = 0\n",
        "total_len = len(character) #남은 문자 길이\n",
        "#문자열과와 찾을 문자를 입력받아서, 존재하는 수만큼 반환하는 함수\n",
        "def find_chr(old_chr,short):#a는 문자열\n",
        "  new_chr = old_chr.replace(short,'')\n",
        "  #반환 = (존재하는 문자개수, 문자길이)\n",
        "  return (int((len(old_chr)-len(new_chr))/len(short)),len(short))\n",
        "\n",
        "total_cnt = total_cnt + find_chr(character,'c=')[0]\n",
        "total_len = total_len - find_chr(character,'c=')[0]*find_chr(character,'c=')[1]\n",
        "\n",
        "total_cnt = total_cnt + find_chr(character,'c-')[0]\n",
        "total_len = total_len - find_chr(character,'c-')[0]*find_chr(character,'c-')[1]\n",
        "\n",
        "total_cnt = total_cnt + find_chr(character,'d-')[0]\n",
        "total_len = total_len - find_chr(character,'d-')[0]*find_chr(character,'d-')[1]\n",
        "total_cnt = total_cnt + find_chr(character,'lj')[0]\n",
        "total_len = total_len - find_chr(character,'lj')[0]*find_chr(character,'lj')[1]\n",
        "total_cnt = total_cnt + find_chr(character,'nj')[0]\n",
        "total_len = total_len - find_chr(character,'nj')[0]*find_chr(character,'nj')[1]\n",
        "total_cnt = total_cnt + find_chr(character,'s=')[0]\n",
        "total_len = total_len - find_chr(character,'s=')[0]*find_chr(character,'s=')[1]\n",
        "\n",
        "\n",
        "if find_chr(character,'dz=')[0]>0:\n",
        "  #z=의 개수 찾기\n",
        "  ept = find_chr(character,'z=')[0] - find_chr(character,'dz=')[0] #z=의 개수\n",
        "  #z= 먼저 처리하자\n",
        "  total_cnt = total_cnt + ept #개수에 z=만큼 더해줌\n",
        "  total_len = total_len - ept*2 #총 길이에서 z=*개수 만큼 빼줌\n",
        "  \n",
        "  #dz= 처리하자\n",
        "  total_cnt = total_cnt + find_chr(character,'dz=')[0]\n",
        "  total_len = total_len - find_chr(character,'dz=')[0]*find_chr(character,'dz=')[1]\n",
        "else:\n",
        "  total_cnt = total_cnt + find_chr(character,'z=')[0]\n",
        "  total_len = total_len - find_chr(character,'z=')[0]*find_chr(character,'z=')[1]\n",
        "\n",
        "total_cnt = total_cnt + total_len\n",
        "\n",
        "print(total_cnt)\n"
      ],
      "execution_count": null,
      "outputs": [
        {
          "output_type": "stream",
          "text": [
            "c=c=\n",
            "2\n",
            "0\n"
          ],
          "name": "stdout"
        }
      ]
    },
    {
      "cell_type": "code",
      "metadata": {
        "colab": {
          "base_uri": "https://localhost:8080/"
        },
        "id": "UpFMSSmaMlE1",
        "outputId": "f8dd7db5-64bb-4e72-fa15-99019e2fc341"
      },
      "source": [
        "#By JourneyJi\n",
        "#그룹 단어 체커\n",
        "\n",
        "\n",
        "#단어의 개수 N 입력받기\n",
        "n = input()\n",
        "#변수 생성1\n",
        "total_cnt = 0\n",
        "#단어들 입력받기\n",
        "characters = input()\n",
        "\n",
        "#변수 생성2\n",
        "\n",
        "used_alpha = [] #사용 알파벳을 대조하기 위한 저장 리스트\n",
        "listed_cnt = 0\n",
        "deletion_cnt = 0\n",
        "#우선 문자열을 한 문자씩 리스트로 저장\n",
        "alpha = list(characters)\n",
        "#첫 인덱스의 요소를 추출하여, 리스트내의 요소의 개수 카운트//저장리스트에 요소 저장\n",
        "listed_cnt = alpha.count(alpha[0]) #리스트내의 요소의 개수\n",
        "used_alpha.append(alpha[0])\n",
        "print('리스트 내의 첫 요소의 개수는 {0}'.format(listed_cnt))\n",
        "#첫 인덱스의 요소와 다음요소를 비교하여 같을 때까지 진행하며 삭제\n",
        "\n",
        "for i in range(len(alpha)):\n",
        "  if alpha[0] == alpha[1]:\n",
        "    deletion_cnt += 1\n",
        "    del alpha[0]\n",
        "    continue\n",
        "  else: \n",
        "    deletion_cnt += 1\n",
        "    del alpha[0]\n",
        "    break\n",
        "  \n",
        "\n",
        "print('첫 인덱스 요소 연속삭제',alpha)\n",
        "print('삭제된 요소의 개수 =',deletion_cnt)\n",
        "#삭제된 요소의 개수 == 리스트내의 요소의 개수가 같으면 다음 인덱스로 정상진행\n",
        "if listed_cnt == deletion_cnt:\n",
        "  for i in range(len(alpha)):\n",
        "    if alpha[0] == alpha[1]:\n",
        "      deletion_cnt += 1\n",
        "      del alpha[0]\n",
        "      continue\n",
        "    else: \n",
        "      deletion_cnt += 1\n",
        "      del alpha[0]\n",
        "      break\n",
        "#틀리면 그룹단어가 아님\n",
        "else:\n",
        "  #break\n",
        "print('두번째 인덱스 요소 연속 삭제',alpha)\n",
        "print()\n",
        "\n",
        "\n",
        "\n",
        "\n",
        "\n",
        "\n",
        "\n"
      ],
      "execution_count": null,
      "outputs": [
        {
          "output_type": "stream",
          "text": [
            "3\n",
            "hhhhaappy\n",
            "리스트 내의 첫 요소의 개수는 4\n",
            "첫 인덱스 요소 연속삭제 ['a', 'a', 'p', 'p', 'y']\n",
            "삭제된 요소의 개수 = 4\n",
            "두번째 인덱스 요소 연속 삭제 ['p', 'p', 'y']\n",
            "\n"
          ],
          "name": "stdout"
        }
      ]
    },
    {
      "cell_type": "code",
      "metadata": {
        "colab": {
          "base_uri": "https://localhost:8080/"
        },
        "id": "8wEV1XqfRc55",
        "outputId": "42bd55c5-3b44-486b-dae6-33a55fb125bc"
      },
      "source": [
        "#By JourneyJi\n",
        "#그룹 단어 체커\n",
        "\n",
        "#단어의 개수 N 입력받기\n",
        "n = int(input())\n",
        "\n",
        "#변수 생성1\n",
        "total_cnt = 0\n",
        "#단어들 입력받기\n",
        "for i in range(n): #입력받은 수만큼 단어를 입력받음\n",
        "  characters = input()#단어 입력받음\n",
        "  #변수 생성2\n",
        "  listed_cnt = 0 #존재하는 요소의 개수 저장\n",
        "  deletion_cnt = 0 #삭제한 요소의 개수 저장\n",
        "  #우선 문자열을 한 문자씩 리스트로 저장\n",
        "  alpha = list(characters)\n",
        "  \n",
        "  used_alpha.append(alpha[0])\n",
        "  #첫 인덱스의 요소와 다음요소를 비교하여 같을 때까지 진행하며 삭제\n",
        "  for i in range(len(alpha)):\n",
        "    #삭제된 요소의 개수 == 리스트내의 요소의 개수가 같으면 다음 인덱스로 정상진행\n",
        "    if listed_cnt == deletion_cnt:\n",
        "      #첫 인덱스의 요소를 추출하여, 리스트내의 요소의 개수 카운트//저장리스트에 요소 저장\n",
        "      listed_cnt = alpha.count(alpha[0]) #리스트내의 요소의 개수\n",
        "      print(alpha[0],'의 리스트내의 요소 개수',listed_cnt)\n",
        "      try:\n",
        "        if alpha[0] == alpha[1]:\n",
        "          deletion_cnt += 1\n",
        "          del alpha[0]\n",
        "          continue\n",
        "        else: \n",
        "          deletion_cnt += 1\n",
        "          del alpha[0]\n",
        "          continue\n",
        "      except:\n",
        "        if len(characters)==1:\n",
        "          print('처음부터 문자가 하나')\n",
        "          deletion_cnt = 1\n",
        "          continue\n",
        "        else:\n",
        "          print('마지막문자는',alpha[0])\n",
        "          continue   \n",
        "    else:\n",
        "      print('그룹단어가 아닙니다')\n",
        "      break\n",
        "    \n",
        "  \n",
        "  total_cnt += 1\n",
        "print(alpha)\n",
        "print(total_cnt)"
      ],
      "execution_count": null,
      "outputs": [
        {
          "output_type": "stream",
          "text": [
            "1\n",
            "happy\n",
            "h 의 리스트내의 요소 개수 1\n",
            "a 의 리스트내의 요소 개수 1\n",
            "그룹단어가 아닙니다\n",
            "['p', 'p', 'y']\n",
            "1\n"
          ],
          "name": "stdout"
        }
      ]
    },
    {
      "cell_type": "code",
      "metadata": {
        "colab": {
          "base_uri": "https://localhost:8080/",
          "height": 326
        },
        "id": "CNuk1bviryAS",
        "outputId": "194aa40f-76d0-455c-b34e-43dc6931b7d2"
      },
      "source": [
        "#By JourneyJi\n",
        "#그룹 단어 체커\n",
        "\n",
        "#단어의 개수 입력받기\n",
        "n = int(input())\n",
        "group_cnt = n\n",
        "#단어입력받고\n",
        "\n",
        "for _ in range(n):\n",
        "  input_data = input()\n",
        "  old_chr = ''\n",
        "  used_list = []\n",
        "  for _ in range(26): #사용 리스트 새로 생성\n",
        "    used_list.append(-1)\n",
        "  for  i in range(len(input_data)):\n",
        "    if used_list[ord(input_data[i])-97] ==-1: #처음 나온 문자라면\n",
        "      used_list[ord(input_data[i])-97] = 1\n",
        "      old_chr =input_data[i] #나온 문자를 저장\n",
        "    else:#처음 나온 단어가 아니면\n",
        "      if old_chr == input_data[i]:#저장된 문자와 새로나온 문자가 같다면?\n",
        "        continue\n",
        "      else:\n",
        "        group_cnt -=1\n",
        "        break\n",
        "print(group_cnt)\n",
        "  \n",
        "  \n",
        "'''\n",
        "\n",
        "\n",
        "a = 'a'\n",
        "old_chr =''\n",
        "group_cnt = 1\n",
        "length_cnt=0\n",
        "#나온문자는 저장\n",
        "used_list = [] \n",
        "for _ in range(26): # 97=a=0 / z=122=25\n",
        "  used_list.append(-1)\n",
        "print(used_list)\n",
        "#나온단어가 다시나왔다 ? 그룹단어가 아니다 //단 (이전에 나온 단어와 동일하다면 패스~)\n",
        "#나온단어가 다시나오지않고 끝까지 갔다 ? 그룹단어다\n",
        "for i in range(len(a)): #입력받은 문자열 길이만큼 반복\n",
        "  #처음나온 문자인지 파악\n",
        "  if used_list[ord(a[i])-97] ==-1: #처음 나온 문자라면\n",
        "    used_list[ord(a[i])-97] = 1\n",
        "    old_chr =a[i] #나온 문자를 저장\n",
        "  else:#처음 나온 단어가 아니면\n",
        "    if old_chr == a[i]:#저장된 문자와 새로나온 문자가 같다면?\n",
        "      print('{0}번째 문자는 연속문자입니다. 계속진행합니다.'.format(i))\n",
        "      continue\n",
        "    else:\n",
        "      print('그룹단어가 아닙니다.')\n",
        "      group_cnt -=1\n",
        "      break\n",
        "  length_cnt +=1\n",
        "  print('{0}번째 인덱스완료'.format(i)) \n",
        "print(used_list) \n",
        "print(group_cnt)\n",
        "\n",
        "'''"
      ],
      "execution_count": 20,
      "outputs": [
        {
          "output_type": "stream",
          "text": [
            "4\n",
            "aba\n",
            "삭제 전 :  4\n",
            "삭제 후 :  3\n",
            "abab\n",
            "삭제 전 :  3\n",
            "삭제 후 :  2\n",
            "abcabc\n",
            "삭제 전 :  2\n",
            "삭제 후 :  1\n",
            "a\n",
            "1\n"
          ],
          "name": "stdout"
        },
        {
          "output_type": "execute_result",
          "data": {
            "application/vnd.google.colaboratory.intrinsic+json": {
              "type": "string"
            },
            "text/plain": [
              "\"\\n\\n\\na = 'a'\\nold_chr =''\\ngroup_cnt = 1\\nlength_cnt=0\\n#나온문자는 저장\\nused_list = [] \\nfor _ in range(26): # 97=a=0 / z=122=25\\n  used_list.append(-1)\\nprint(used_list)\\n#나온단어가 다시나왔다 ? 그룹단어가 아니다 //단 (이전에 나온 단어와 동일하다면 패스~)\\n#나온단어가 다시나오지않고 끝까지 갔다 ? 그룹단어다\\nfor i in range(len(a)): #입력받은 문자열 길이만큼 반복\\n  #처음나온 문자인지 파악\\n  if used_list[ord(a[i])-97] ==-1: #처음 나온 문자라면\\n    used_list[ord(a[i])-97] = 1\\n    old_chr =a[i] #나온 문자를 저장\\n  else:#처음 나온 단어가 아니면\\n    if old_chr == a[i]:#저장된 문자와 새로나온 문자가 같다면?\\n      print('{0}번째 문자는 연속문자입니다. 계속진행합니다.'.format(i))\\n      continue\\n    else:\\n      print('그룹단어가 아닙니다.')\\n      group_cnt -=1\\n      break\\n  length_cnt +=1\\n  print('{0}번째 인덱스완료'.format(i)) \\nprint(used_list) \\nprint(group_cnt)\\n\\n\""
            ]
          },
          "metadata": {
            "tags": []
          },
          "execution_count": 20
        }
      ]
    },
    {
      "cell_type": "code",
      "metadata": {
        "id": "QeuWQPoYt2eB",
        "colab": {
          "base_uri": "https://localhost:8080/"
        },
        "outputId": "55adc2ea-276d-4041-ac85-49989e55b707"
      },
      "source": [
        "print(ord('a'))\r\n",
        "print(ord('z'))\r\n"
      ],
      "execution_count": null,
      "outputs": [
        {
          "output_type": "stream",
          "text": [
            "97\n",
            "122\n"
          ],
          "name": "stdout"
        }
      ]
    },
    {
      "cell_type": "code",
      "metadata": {
        "id": "p6QsNnuGK5Qc"
      },
      "source": [
        ""
      ],
      "execution_count": null,
      "outputs": []
    }
  ]
}