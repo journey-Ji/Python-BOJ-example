{
  "nbformat": 4,
  "nbformat_minor": 0,
  "metadata": {
    "colab": {
      "name": "BOJ-기본수학1.ipynb",
      "provenance": [],
      "collapsed_sections": [],
      "authorship_tag": "ABX9TyNk5Lu42Yct+yhyl3QVBqqm",
      "include_colab_link": true
    },
    "kernelspec": {
      "name": "python3",
      "display_name": "Python 3"
    }
  },
  "cells": [
    {
      "cell_type": "markdown",
      "metadata": {
        "id": "view-in-github",
        "colab_type": "text"
      },
      "source": [
        "<a href=\"https://colab.research.google.com/github/journey-Ji/Python-BOJ-example/blob/main/BOJ_%EA%B8%B0%EB%B3%B8%EC%88%98%ED%95%991.ipynb\" target=\"_parent\"><img src=\"https://colab.research.google.com/assets/colab-badge.svg\" alt=\"Open In Colab\"/></a>"
      ]
    },
    {
      "cell_type": "code",
      "metadata": {
        "colab": {
          "base_uri": "https://localhost:8080/"
        },
        "id": "dsb55MNoJSAU",
        "outputId": "a43d8388-56b5-404d-a4c2-6438a747fc0c"
      },
      "source": [
        "#By JourneyJi\n",
        "#손익 분기점(BREAK_EVEN_POINT)\n",
        "\n",
        "#손익 분기점 = 최초로 총 수입(판매가*판매량)>총 비용(=고정비용+가변비용*판매량)인 지점\n",
        "#최초로 이익이 발생하는 판매량(D)를 출력하자 //없으면 -1을 출력\n",
        "#A(고정비용),B(가변비용),C(판매가) 입력받음\n",
        "import math\n",
        "A, B, C = map(int, input().split())\n",
        "if B > C or B == C:\n",
        "  result = -1\n",
        "else:\n",
        "  result = A/(C-B) #총 비용과 총 수입을 식 계산하여 판매량을 결정\n",
        "  if result%1 ==0:\n",
        "    result+=1\n",
        "print(math.ceil(result)) # 반올림이 아닌 올림을 사용해야 함\n",
        "\n",
        "##### 문제 제출시에 시간초과로 판정불가...\n",
        "##### 조오~금 더 빠른 for문을 써보자.\n",
        "##### sys.stdin.readline()함수를 통해 더 빨리 받아보자."
      ],
      "execution_count": null,
      "outputs": [
        {
          "output_type": "stream",
          "text": [
            "3 2 1\n",
            "-1\n"
          ],
          "name": "stdout"
        }
      ]
    },
    {
      "cell_type": "code",
      "metadata": {
        "colab": {
          "base_uri": "https://localhost:8080/"
        },
        "id": "kJ--d8zOJ3ql",
        "outputId": "4c1b4836-0dfa-42c6-ba74-c50eae00ff3e"
      },
      "source": [
        "#By Journey Ji\n",
        "#벌집\n",
        "\n",
        "# answer = 1 <--> n = 1      \n",
        "# answer = 2 <--> n = 2~7    dif = 1  6\n",
        "# answer = 3 <--> n = 8~19   dif = 6  12\n",
        "# answer = 4 <--> n = 20~37  dif = 12 18\n",
        "# answer = 5 <--> n = 38~61  dif = 18 24  \n",
        "# answer = 6 <--> n = 62~91  dif = 24 32\n",
        "# answer = 7 <--> n = 92~    dif = 30 38\n",
        "#dif = 1,6,6,6,6,6,...\n",
        "\n",
        "n = int(input())\n",
        "result = 1\n",
        "if n !=1: # n이 1이 아니면 \n",
        "  n = n-1 #n-1해줘서 수의 정렬을 맞춰줌\n",
        "  k = 1 # 지속적으로 곱해줄 미지수 설정 \n",
        "  while True: # 반복문 \n",
        "    n = n -(6*k) # 해당 식을 거쳐서 \n",
        "    result =result + 1 # result 를 +1시킴\n",
        "    if n <= 0: # 위의 식을 거쳤는데 n값이 0보다 작게되면 바로 반복문 탈출\n",
        "      break\n",
        "    k +=1 # 아니면  k값을 올려서 다시 반복\n",
        "print(result)\n"
      ],
      "execution_count": null,
      "outputs": [
        {
          "output_type": "stream",
          "text": [
            "92\n",
            "7\n"
          ],
          "name": "stdout"
        }
      ]
    },
    {
      "cell_type": "code",
      "metadata": {
        "colab": {
          "base_uri": "https://localhost:8080/"
        },
        "id": "Da5NSlj-LdV9",
        "outputId": "96adce80-b24c-4f5d-cb98-93fdd3829d55"
      },
      "source": [
        "#By JourneyJi\n",
        "#분수 찾기\n",
        "\n",
        "#1/1 (<)//1개\n",
        "#1/2 2/1 (>)//2개\n",
        "#1/3 2/2 3/1 (<)//3개\n",
        "#1/4 2/3 3/2 4/1 (>)//4개\n",
        "#각 갯수는 늘어남\n",
        "#크게보면 분자는 from 1 to max만큼 늘어\n",
        "#크게보면 분모는 from max to 1\n",
        "#홀수번째 줄은 리버스 ! \n",
        "\n",
        "X =int(input())\n",
        "max = 1 #최댓값\n",
        "den = 1\n",
        "n=1\n",
        "if X == 1:\n",
        "  print(\"1/1\")\n",
        "elif X ==2:\n",
        "  print(\"1/2\")\n",
        "while n<X:\n",
        "  \n",
        "  if (max%2) == 1:#홀수번째 줄이라면\n",
        "    den = 1\n",
        "    num = max\n",
        "    for i in range(max):\n",
        "      if n == X:\n",
        "        print(\"{0}/{1}\".format(num,den))\n",
        "      \n",
        "      den +=1\n",
        "      num -=1\n",
        "      n = n+1\n",
        "  else:#짝수번째 줄이라면\n",
        "    den = max #분모\n",
        "    num = 1 #분자\n",
        "    for i in range(max):\n",
        "      if n == X:\n",
        "        print(\"{0}/{1}\".format(num,den))\n",
        "      \n",
        "      den -=1\n",
        "      num +=1\n",
        "      n = n+1\n",
        "  max +=1\n",
        "###시간 초과"
      ],
      "execution_count": 30,
      "outputs": [
        {
          "output_type": "stream",
          "text": [
            "1/2\n",
            "1 : 1/1\n",
            "내가 원\n"
          ],
          "name": "stdout"
        }
      ]
    },
    {
      "cell_type": "code",
      "metadata": {
        "id": "SxV3iGwIqyKd",
        "colab": {
          "base_uri": "https://localhost:8080/"
        },
        "outputId": "d983025f-849a-4526-886b-e6fbefed02fd"
      },
      "source": [
        "#By JourneyJi\n",
        "#분수 찾기\n",
        "\n",
        "#1/1 (<)//1개\n",
        "#1/2 2/1 (>)//2개\n",
        "#1/3 2/2 3/1 (<)//3개\n",
        "#1/4 2/3 3/2 4/1 (>)//4개\n",
        "#각 갯수는 늘어남\n",
        "#크게보면 분자는 from 1 to max만큼 늘어\n",
        "#크게보면 분모는 from max to 1\n",
        "#홀수번째 줄은 리버스 ! \n",
        "\n",
        "#행의 위치를 먼저 찾고,\n",
        "X =int(input())\n",
        "index = 0\n",
        "sum = 0\n",
        "while True: #행의 위치를 찾기위한 반복문\n",
        "  index +=1\n",
        "  sum = index*(index+1)/2 #총 합\n",
        "  if X <= sum: #입력값보다 sum이 같거나 커지면 반복문 종료\n",
        "    break \n",
        "#해당행에서 몇번째 위치인지 찾아내자.\n",
        "num = 0\n",
        "num = X- (index-1)*index/2 #전 인덱스까지의 총합을 빼주면, 몇번째인지 알 수 있다.\n",
        "if (index%2)==0: #만약 짝수행이라면\n",
        "  print(\"{0}/{1}\".format(int(num),int(index-num+1)))\n",
        "else:\n",
        "  print(\"{0}/{1}\".format(int(index-num+1),int(num)))\n"
      ],
      "execution_count": 40,
      "outputs": [
        {
          "output_type": "stream",
          "text": [
            "2\n",
            "1/2\n"
          ],
          "name": "stdout"
        }
      ]
    },
    {
      "cell_type": "code",
      "metadata": {
        "colab": {
          "base_uri": "https://localhost:8080/"
        },
        "id": "gmkmuCw-GC9o",
        "outputId": "9d101c8c-e62a-47d0-eee4-bdde463d4c93"
      },
      "source": [
        "#By JourneyJi\n",
        "#달팽이는 올라가고 싶다\n",
        "\n",
        "#달팽이가 나무 막대를 모두 올라가는데 며칠이 걸리는지\n",
        "#낮에 올라가는 길이\n",
        "#밤에 미끄러지는 길이\n",
        "#달성해야할 길이\n",
        "import math\n",
        "A, B, V = map(int,input().split())\n",
        "#만약 100 98 1001이 주어지면\n",
        "#901 미터를 가야해 -->하루에 2미터\n",
        "#450일을가면 900미터를 갈 수 있어\n",
        "#451일째엔 902미터야\n",
        "#452일째엔 1002까진 가겠지.\n",
        "#즉,,, 올림해줘야해\n",
        "day_to_night = V-A\n",
        "gap = A-B\n",
        "#V-A = 낮에 올라간 길이와 밤에 미끄러지는 길이가 공존해야함\n",
        "#V-A = day_to_night\n",
        "print(int(math.ceil((day_to_night/gap) +1)))"
      ],
      "execution_count": 53,
      "outputs": [
        {
          "output_type": "stream",
          "text": [
            "5 1 6\n",
            "2\n"
          ],
          "name": "stdout"
        }
      ]
    },
    {
      "cell_type": "code",
      "metadata": {
        "id": "N528vxS3KBHi"
      },
      "source": [
        "#By JourneyJi\n",
        "#ACM 호텔\n",
        "\n"
      ],
      "execution_count": null,
      "outputs": []
    }
  ]
}