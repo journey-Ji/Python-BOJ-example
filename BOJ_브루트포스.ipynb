{
  "nbformat": 4,
  "nbformat_minor": 0,
  "metadata": {
    "colab": {
      "name": "BOJ 브루트포스.ipynb",
      "provenance": [],
      "collapsed_sections": [],
      "authorship_tag": "ABX9TyNyMkyROK+HZ7FrJcIzUyuC",
      "include_colab_link": true
    },
    "kernelspec": {
      "name": "python3",
      "display_name": "Python 3"
    }
  },
  "cells": [
    {
      "cell_type": "markdown",
      "metadata": {
        "id": "view-in-github",
        "colab_type": "text"
      },
      "source": [
        "<a href=\"https://colab.research.google.com/github/journey-Ji/Python-BOJ-example/blob/main/BOJ_%EB%B8%8C%EB%A3%A8%ED%8A%B8%ED%8F%AC%EC%8A%A4.ipynb\" target=\"_parent\"><img src=\"https://colab.research.google.com/assets/colab-badge.svg\" alt=\"Open In Colab\"/></a>"
      ]
    },
    {
      "cell_type": "code",
      "metadata": {
        "colab": {
          "base_uri": "https://localhost:8080/"
        },
        "id": "3GeHX7ecnbvF",
        "outputId": "cf9a9468-49e4-4453-9fb3-3edea85f7acb"
      },
      "source": [
        "#By JourneyJi\n",
        "#블랙잭\n",
        "\n",
        "#카드합이 21이 넘지 않는 한도 내에서 카드 합을 최대한 크게\n",
        "\n",
        "#N : 카드의 개수 // M : 최댓값\n",
        "# 카드들...\n",
        "\n",
        "N, M = map(int,input().split())\n",
        "cards = list(map(int,input().split()))\n",
        "result = [0,0,0]\n",
        "sum = 0\n",
        "temp = 0\n",
        "for i in range(N-2): # 첫번째 카드(0~N-1번째까지)\n",
        "  for j in range(i+1,N-1): # 두번째 카드(i+1 ~ N-1까지)\n",
        "    for k in range(j+1,N): # 세번째 카드(j+1 ~ N-1 까지)\n",
        "      sum = cards[i]+cards[j]+cards[k]\n",
        "      if (sum>temp) and (sum <= M):\n",
        "        temp = sum\n",
        "\n",
        "print(temp)\n"
      ],
      "execution_count": null,
      "outputs": [
        {
          "output_type": "stream",
          "text": [
            "10 500\n",
            "93 181 245 214 315 36 185 138 216 295\n",
            "497\n",
            "[245, 36, 216]\n"
          ],
          "name": "stdout"
        }
      ]
    },
    {
      "cell_type": "code",
      "metadata": {
        "colab": {
          "base_uri": "https://localhost:8080/"
        },
        "id": "4x8Ga2GjqNQK",
        "outputId": "d59f6382-1382-4214-83f7-8d971a1c891e"
      },
      "source": [
        "#By JourneyJi\n",
        "#분해합\n",
        "\n",
        "# 자연수 N이 주어졌을 때, N의 가장 작은 생성자를 구해내는 프로그램\n",
        "# 생성자가 없으면 0 출력\n",
        "# 한 자리당 최대 = 9\n",
        "# 입력받은 값 -9*len(N) 여기서부터 입력값N까지 찾아보자 탐색 !\n",
        "N = str(input())\n",
        "create_N =[]\n",
        "if int(N)<20:\n",
        "  for i in range(1,int(N)+1):\n",
        "    \n",
        "    total =0\n",
        "    chr = str(i)\n",
        "    total = total + i\n",
        "    for j in range(len(chr)):\n",
        "      total = total+ int(chr[j])\n",
        "    if total ==int(N):\n",
        "      create_N.append(i)\n",
        "else:\n",
        "  for i in range(int(N)-(9*len(N)),int(N)+1):\n",
        "    \n",
        "    total =0\n",
        "    chr = str(i)\n",
        "    total = total + i\n",
        "    for j in range(len(chr)):\n",
        "      total = total+ int(chr[j])\n",
        "    if total ==int(N):\n",
        "      create_N.append(i)\n",
        "\n",
        "if len(create_N)==0:\n",
        "  print('0')\n",
        "else:\n",
        "  print(create_N[0])"
      ],
      "execution_count": null,
      "outputs": [
        {
          "output_type": "stream",
          "text": [
            "19\n",
            "14\n"
          ],
          "name": "stdout"
        }
      ]
    },
    {
      "cell_type": "code",
      "metadata": {
        "colab": {
          "base_uri": "https://localhost:8080/"
        },
        "id": "PJ0NOqZ1tb2G",
        "outputId": "8a4ffcdb-b187-49d2-d63e-ddefa55897a5"
      },
      "source": [
        "#By JourneyJi\n",
        "#덩치\n",
        "N= int(input())\n",
        "bulk = []\n",
        "\n",
        "rank =[]\n",
        "point =[0 for i in range(N)]\n",
        "\n",
        "for _ in range(N):\n",
        "  bulk.append(tuple(map(int,input().split())))\n",
        "  \n",
        "for i in range(len(bulk)):\n",
        "  for j in range(len(bulk)):\n",
        "    if (bulk[i][0] > bulk[j][0]) and (bulk[i][1] > bulk[j][1]):\n",
        "      point[i] +=1\n",
        "\n",
        "for i in range(0,len(point)):\n",
        "  r=1\n",
        "  for j in range(0,len(point)):\n",
        "    if point[i] < point[j]: r +=1\n",
        "  rank.append(r)\n",
        "\n",
        "for i in range(len(rank)):\n",
        "  print(rank[i], end=' ')"
      ],
      "execution_count": 1,
      "outputs": [
        {
          "output_type": "stream",
          "text": [
            "5\n",
            "55 185\n",
            "58 183\n",
            "88 186\n",
            "60 175\n",
            "46 155\n",
            "2 2 1 2 5 "
          ],
          "name": "stdout"
        }
      ]
    },
    {
      "cell_type": "code",
      "metadata": {
        "id": "U3IFVvNZ11H-",
        "colab": {
          "base_uri": "https://localhost:8080/"
        },
        "outputId": "0d1d7503-ba1e-427e-9859-b63bbb81d266"
      },
      "source": [
        "#By JouneyJi\n",
        "#덩치\n",
        "\n",
        "#각 개체마다 모든개체와 비교하여 나보다 덩치가 큰 사람이 k명이라면 해당 개체의 등수는 k+1이다.\n",
        "# 따라서 중복도 존재한다.\n",
        "\n",
        "#각각의 덩치 입력받기\n",
        "N = int(input())\n",
        "bulk = []\n",
        "rank = [1 for i  in range(N)]\n",
        "\n",
        "for _ in range(N):\n",
        "  bulk.append(tuple(map(int,input().split())))\n",
        "\n",
        "\n",
        "#덩치 등수 매기기\n",
        "for i in range(len(bulk)):\n",
        "  for j in range(len(bulk)):\n",
        "    if i==j: continue\n",
        "    if (bulk[i][0] < bulk[j][0]) and (bulk[i][1] < bulk[j][1]):\n",
        "      rank[i] +=1\n",
        "\n",
        "for i in range(len(rank)):\n",
        "  print(rank[i], end=' ')"
      ],
      "execution_count": 12,
      "outputs": [
        {
          "output_type": "stream",
          "text": [
            "5\n",
            "55 185\n",
            "58 183\n",
            "88 186\n",
            "60 175\n",
            "46 155\n",
            "2 2 1 2 5 "
          ],
          "name": "stdout"
        }
      ]
    },
    {
      "cell_type": "code",
      "metadata": {
        "colab": {
          "base_uri": "https://localhost:8080/",
          "height": 453
        },
        "id": "IcMBiRcxH-AT",
        "outputId": "07f89792-aafa-42da-b1c0-6e1fef9636e9"
      },
      "source": [
        "#By JourneyJi\n",
        "#체스판 다시 칠하기\n",
        "\n",
        "\n",
        "#열의 원소 첫시작부터 max - 8 번째 까지 검색\n",
        "#첫번째 원소를 그대로 두는 경우와 색칠하는 경우로 나뉨\n",
        "#첫원소를 그대로 두는 경우에, 홀수번째 위치원소가 첫 원소랑 다르면 cnt +=1 // 짝수번째 위치원소가 첫 원소랑 같으면 cnt +=1\n",
        "#첫원소를 색칠하는 경우에, 홀수번째 위치원소가 첫 원소랑 같으면 cnt +=1// 짝수번째 위치원소가 첫 원소랑 다르면 cnt+=1\n",
        "#홀수 행의 경우 // 같은행위 반복\n",
        "#짝수 행의 경우 // 첫원소와 반대요소를 기준으로 같은행위 반복\n",
        "#반복문 수행시에, 8*8이 끝나면 cnt 새로 설정\n",
        "#cnt는 리스트로 생성하여 저장\n",
        "\n",
        "#첫 왼쪽위 원소로 가능한 범위 ?\n",
        "#if 10*13 일 경우에\n",
        "#10-7 = 3 / 13 - 7 = 6 --> 3*6 까지 \n",
        "# 즉 1*1 위치부터 3*6 까지의 직사각형을 돌면서 cnt를 저장해야 함\n",
        "# M-7 /N-7 index 까지 직사각형 돌기 \n",
        "\n",
        "\n",
        "#M*N을 입력받자\n",
        "M = 0 #행\n",
        "N = 0 #열\n",
        "M, N = map(int,input().split())\n",
        "WB_list = []\n",
        "\n",
        "cnt_W = [[0 for col in range(N-7)] for row in range(M-7)]\n",
        "cnt_B = [[0 for col in range(N-7)] for row in range(M-7)]\n",
        "#문자열 입력\n",
        "for _ in range(M):\n",
        "  WB_list.append(input())\n",
        "\n",
        "# 3*6만큼 반복\n",
        "#i와j로 시작위치를 정함\n",
        "for i in range(M-7):\n",
        "  for j in range(N-7):\n",
        "    for m in range(i,i+8): #행인덱스\n",
        "      for n in range(j,j+8): #열인덱스\n",
        "        if (m%2 ==0 and n%2==0)or (m%2==1 and n%2==1) : # 짝수번 행,열 or 홀수번 행열 인덱스\n",
        "          if WB_list[m][n]!='W':\n",
        "            cnt_W[i][j] +=1\n",
        "        else: # 짝수 행\n",
        "          if WB_list[m][n] =='W':\n",
        "            cnt_W[i][j] +=1\n",
        "\n",
        "#i와j로 시작위치를 정함\n",
        "for i in range(M-7):\n",
        "  for j in range(N-7):\n",
        "    for m in range(i,i+8): #행인덱스\n",
        "      for n in range(j,j+8): #열인덱스\n",
        "        if (m%2 ==0 and n%2==0)or (m%2==1 and n%2==1) : # 짝수번 행,열 or 홀수번 행열 인덱스\n",
        "          if WB_list[m][n]!='B':\n",
        "            cnt_B[i][j] +=1\n",
        "        else: # 짝수 행\n",
        "          if WB_list[m][n] =='B':\n",
        "            cnt_B[i][j] +=1\n",
        "\n",
        "min=1000\n",
        "for i in range(M-7):\n",
        "  for j in range(N-7):\n",
        "    if min>cnt_B[i][j]:\n",
        "      min = cnt_B[i][j]\n",
        "    if min>cnt_W[i][j]:\n",
        "      min = cnt_W[i][j]\n",
        "# 짝수번 행 인덱스에 짝수번 열 인덱스, 홀수번 행 인덱스에 홀수번 열 인덱스 \n",
        "\n",
        "print(min)"
      ],
      "execution_count": 14,
      "outputs": [
        {
          "output_type": "stream",
          "text": [
            "BBBBBBBBWBWBW\n",
            "BBBBBBBBWBWBW\n",
            "BBBBBBBBWBWBW\n",
            "BBBBBBBBWBWBW\n",
            "BBBBBBBBWBWBW\n",
            "BBBBBBBBWBWBW\n",
            "BBBBBBBBWBWBW\n",
            "BBBBBBBBWBWBW\n",
            "BBBBBBBBWBWBW\n",
            "BBBBBBBBWBWBW\n"
          ],
          "name": "stdout"
        },
        {
          "output_type": "error",
          "ename": "TypeError",
          "evalue": "ignored",
          "traceback": [
            "\u001b[0;31m---------------------------------------------------------------------------\u001b[0m",
            "\u001b[0;31mTypeError\u001b[0m                                 Traceback (most recent call last)",
            "\u001b[0;32m<ipython-input-14-827d6c47af0f>\u001b[0m in \u001b[0;36m<module>\u001b[0;34m()\u001b[0m\n\u001b[1;32m     35\u001b[0m       \u001b[0;32mfor\u001b[0m \u001b[0mn\u001b[0m \u001b[0;32min\u001b[0m \u001b[0mrange\u001b[0m\u001b[0;34m(\u001b[0m\u001b[0mj\u001b[0m\u001b[0;34m,\u001b[0m\u001b[0mj\u001b[0m\u001b[0;34m+\u001b[0m\u001b[0;36m8\u001b[0m\u001b[0;34m)\u001b[0m\u001b[0;34m:\u001b[0m \u001b[0;31m#열인덱스\u001b[0m\u001b[0;34m\u001b[0m\u001b[0;34m\u001b[0m\u001b[0m\n\u001b[1;32m     36\u001b[0m         \u001b[0;32mif\u001b[0m \u001b[0;34m(\u001b[0m\u001b[0mm\u001b[0m\u001b[0;34m%\u001b[0m\u001b[0;36m2\u001b[0m \u001b[0;34m==\u001b[0m\u001b[0;36m0\u001b[0m \u001b[0;32mand\u001b[0m \u001b[0mn\u001b[0m\u001b[0;34m&\u001b[0m\u001b[0;36m2\u001b[0m\u001b[0;34m==\u001b[0m\u001b[0;36m0\u001b[0m\u001b[0;34m)\u001b[0m\u001b[0;32mor\u001b[0m \u001b[0;34m(\u001b[0m\u001b[0mm\u001b[0m\u001b[0;34m&\u001b[0m\u001b[0;36m2\u001b[0m\u001b[0;34m==\u001b[0m\u001b[0;36m1\u001b[0m \u001b[0;32mand\u001b[0m \u001b[0mn\u001b[0m\u001b[0;34m%\u001b[0m\u001b[0;36m2\u001b[0m\u001b[0;34m==\u001b[0m\u001b[0;36m1\u001b[0m\u001b[0;34m)\u001b[0m \u001b[0;34m:\u001b[0m \u001b[0;31m# 짝수번 행,열 or 홀수번 행열 인덱스\u001b[0m\u001b[0;34m\u001b[0m\u001b[0;34m\u001b[0m\u001b[0m\n\u001b[0;32m---> 37\u001b[0;31m           \u001b[0mWB_list\u001b[0m\u001b[0;34m[\u001b[0m\u001b[0mm\u001b[0m\u001b[0;34m]\u001b[0m\u001b[0;34m[\u001b[0m\u001b[0mn\u001b[0m\u001b[0;34m]\u001b[0m \u001b[0;34m=\u001b[0m\u001b[0;34m'W'\u001b[0m\u001b[0;34m\u001b[0m\u001b[0;34m\u001b[0m\u001b[0m\n\u001b[0m\u001b[1;32m     38\u001b[0m         \u001b[0;32melse\u001b[0m\u001b[0;34m:\u001b[0m \u001b[0;31m# 나머지 칸\u001b[0m\u001b[0;34m\u001b[0m\u001b[0;34m\u001b[0m\u001b[0m\n\u001b[1;32m     39\u001b[0m           \u001b[0mWB_list\u001b[0m\u001b[0;34m[\u001b[0m\u001b[0mm\u001b[0m\u001b[0;34m]\u001b[0m\u001b[0;34m[\u001b[0m\u001b[0mn\u001b[0m\u001b[0;34m]\u001b[0m \u001b[0;34m=\u001b[0m\u001b[0;34m'B'\u001b[0m\u001b[0;34m\u001b[0m\u001b[0;34m\u001b[0m\u001b[0m\n",
            "\u001b[0;31mTypeError\u001b[0m: 'str' object does not support item assignment"
          ]
        }
      ]
    },
    {
      "cell_type": "code",
      "metadata": {
        "colab": {
          "base_uri": "https://localhost:8080/"
        },
        "id": "qGSME6CM_6nA",
        "outputId": "2a29de2e-d267-4ff9-b89e-f4ef3f16cf52"
      },
      "source": [
        "#By JourneyJi\n",
        "#영화감독 숌\n",
        "\n",
        "# 666이 들어가는 영화 제목을 구하면 되는데\n",
        "# 666,1666,2666,....,5666,6660,6661,6662,6663,6664,...이런식으로\n",
        "# 6이 연속으로 3개가 들어가되, 작은숫자부터 순서대로 영화제목의 순서를 가진다\n",
        "# N번째 영화 제목을 출력하라.\n",
        "\n",
        "N= int(input())\n",
        "cnt = 0\n",
        "i=0\n",
        "while True:\n",
        "  i = i + 1\n",
        "  if str(i).find('666')!=-1:\n",
        "    cnt +=1\n",
        "  if cnt == N :\n",
        "    print(i)\n",
        "    break"
      ],
      "execution_count": 22,
      "outputs": [
        {
          "output_type": "stream",
          "text": [
            "22\n",
            "12666\n"
          ],
          "name": "stdout"
        }
      ]
    },
    {
      "cell_type": "code",
      "metadata": {
        "colab": {
          "base_uri": "https://localhost:8080/"
        },
        "id": "vhPS8r75FT-D",
        "outputId": "7b2758a2-e1ec-4a48-a46b-6bfc11768f29"
      },
      "source": [
        ""
      ],
      "execution_count": 21,
      "outputs": [
        {
          "output_type": "stream",
          "text": [
            "-1\n"
          ],
          "name": "stdout"
        }
      ]
    },
    {
      "cell_type": "code",
      "metadata": {
        "id": "wFyKg-fLirKQ"
      },
      "source": [
        ""
      ],
      "execution_count": null,
      "outputs": []
    }
  ]
}