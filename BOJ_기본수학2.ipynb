{
  "nbformat": 4,
  "nbformat_minor": 0,
  "metadata": {
    "colab": {
      "name": "BOJ-기본수학2.ipynb",
      "provenance": [],
      "collapsed_sections": [],
      "authorship_tag": "ABX9TyMRC1qEw7A4hz4m//MzUEV/",
      "include_colab_link": true
    },
    "kernelspec": {
      "name": "python3",
      "display_name": "Python 3"
    }
  },
  "cells": [
    {
      "cell_type": "markdown",
      "metadata": {
        "id": "view-in-github",
        "colab_type": "text"
      },
      "source": [
        "<a href=\"https://colab.research.google.com/github/journey-Ji/Python-BOJ-example/blob/main/BOJ_%EA%B8%B0%EB%B3%B8%EC%88%98%ED%95%992.ipynb\" target=\"_parent\"><img src=\"https://colab.research.google.com/assets/colab-badge.svg\" alt=\"Open In Colab\"/></a>"
      ]
    },
    {
      "cell_type": "code",
      "metadata": {
        "colab": {
          "base_uri": "https://localhost:8080/"
        },
        "id": "wZuzHlfmYLdS",
        "outputId": "5d4269f8-4e21-436a-b220-b1a5a380043a"
      },
      "source": [
        "#By JourneyJi\n",
        "#소수 찾기\n",
        "\n",
        "# 소수 : 1과 자기자신을 제외한 수로는 나눠지지 않는 수\n",
        "\n",
        "# 입력받기\n",
        "test_case = int(input())\n",
        "input_data = list(map(int,input().split()))\n",
        "result = []\n",
        "for _ in range(test_case):\n",
        "  result.append('OK')\n",
        "\n",
        "\n",
        "\n",
        "for n in range(len(input_data)):\n",
        "  if input_data[n] ==1  or input_data[n]==0:\n",
        "    result[n] = 'none'\n",
        "  else:\n",
        "    for i in range(2,input_data[n]):\n",
        "      if input_data[n]%i == 0:\n",
        "        result[n] ='none'\n",
        "        break\n",
        "\n",
        "    \n",
        "print(result.count('OK'))"
      ],
      "execution_count": null,
      "outputs": [
        {
          "output_type": "stream",
          "text": [
            "5\n",
            "4 7 5 13 9\n",
            "3\n",
            "['none', 'OK', 'OK', 'OK', 'none']\n"
          ],
          "name": "stdout"
        }
      ]
    },
    {
      "cell_type": "code",
      "metadata": {
        "colab": {
          "base_uri": "https://localhost:8080/"
        },
        "id": "aZ-1XAn9YcP8",
        "outputId": "6c799675-7fe3-4546-b6b5-2f52bd82de6b"
      },
      "source": [
        "#By JourneyJi\n",
        "#소수\n",
        "\n",
        "#소수들의 합과 min을 구해야하므로\n",
        "#소수들을 제거하는 방법을 써보자.\n",
        "\n",
        "\n",
        "\n",
        "# 변수 입력\n",
        "M =int(input())\n",
        "N =int(input())\n",
        "result =[]\n",
        "total = 0\n",
        "for j in range(M, N+1):\n",
        "  result.append(j)\n",
        "for number in range(M,N+1):\n",
        "  if number ==1 or number ==0:\n",
        "    result.remove(number)\n",
        "    continue\n",
        "  else:\n",
        "    for i in range(2,number):\n",
        "      if number%i ==0:\n",
        "        try:\n",
        "          result.remove(number)\n",
        "          break\n",
        "        except:\n",
        "          pass\n",
        "for k in range(len(result)):\n",
        "  total += result[k]\n",
        "if len(result)==0:\n",
        "  print('-1')\n",
        "else:\n",
        "  print(total)\n",
        "  print(min(result))"
      ],
      "execution_count": null,
      "outputs": [
        {
          "output_type": "stream",
          "text": [
            "64\n",
            "65\n",
            "-1\n"
          ],
          "name": "stdout"
        }
      ]
    },
    {
      "cell_type": "code",
      "metadata": {
        "colab": {
          "base_uri": "https://localhost:8080/"
        },
        "id": "o5MRQi47fgln",
        "outputId": "9a3f25dc-adca-4240-d80d-4717fbc58dc5"
      },
      "source": [
        "#By JourneyJi\n",
        "#소인수분해\n",
        "# 2~입력받은 숫자까지 차례대로 나누기 실행(나머지 ==0일 때, 몫을 취하고, 나누는 숫자를 다시2로 초기화)\n",
        "# 나머지 !=0이면 다음숫자로 넘어감\n",
        "# 나머지 ==0 일 때, 만약 몫이 1이라면 몫을 취하지않고 종료\n",
        "# 취한 몫들은 리스트에 저장 -->바로 출력해도 되네\n",
        "\n",
        "\n",
        "N=int(input())\n",
        "num =2\n",
        "if N ==1:\n",
        "  pass\n",
        "else:\n",
        "  while True:\n",
        "    if N%num ==0: #나머지가 0이면\n",
        "      if N//num ==1:# 몫이 1이고 나머지가 0 이면 종료\n",
        "        print(num)\n",
        "        break\n",
        "      else:\n",
        "        print(num)\n",
        "        N=N//num\n",
        "    else: # 나머지가 0이 아니면\n",
        "      num +=1\n",
        "        "
      ],
      "execution_count": null,
      "outputs": [
        {
          "output_type": "stream",
          "text": [
            "72\n",
            "2\n",
            "2\n",
            "2\n",
            "3\n",
            "3\n",
            "[]\n"
          ],
          "name": "stdout"
        }
      ]
    },
    {
      "cell_type": "code",
      "metadata": {
        "colab": {
          "base_uri": "https://localhost:8080/"
        },
        "id": "HwfLhA8YfrZg",
        "outputId": "d46252eb-43ce-4b0b-80bd-e9b70e0da4c2"
      },
      "source": [
        "#By JourneyJi\n",
        "#소수 구하기\n",
        "\n",
        "#에라토스테네스의 체 방법을 이용해보자.\n",
        "#규칙1# 찾고자 하는 범위의 자연수를 나열\n",
        "#규칙2# 2부터 시작하여, 2의 배수를 지워나간다.\n",
        "#규칙3# 다음 소수의 배수를 모두 지운다.\n",
        "#2,3,4,5,6,7,8,9,.... 소수 =2\n",
        "#3,5,7,9,.... 소수 = 3\n",
        "#5,7,.... 소수 =5\n",
        "#7,....\n",
        "#위의 과정을 반복하되, 소수는 따로 리스트에 저장하자.\n",
        "## 입력받기\n",
        "under, upper = map(int,input().split())\n",
        "if under ==1: # 소수의 첫 시작을 2로 만들기 위함\n",
        "  under = 2\n",
        "\n",
        "numbers=[] #범위 내의 모든 수를 저장하는 리스트\n",
        "prime_numbers = [] #소수만을 골라서 저장하는 리스트\n",
        "\n",
        "for i in range(under,upper+1): #범위 내의 모든 수 선언\n",
        "  numbers.append(i)\n",
        "start_number =2 #첫 소수는 2부터 시작\n",
        "n=1 #반복을 위한 n값\n",
        "while True:#start_number를 점점 증가시키기 위한 반복문\n",
        "  #prime_numbers.append(start_number)\n",
        "  print(start_number)\n",
        "  while True: #start_number*n을 돌리기 위한 반복문 \n",
        "    try:\n",
        "      numbers.remove(start_number*n) #소수*n값을 지워줌\n",
        "      #print('지우는 수 : ',start_number*n)\n",
        "      n +=1\n",
        "    except ValueError:\n",
        "      #print('리스트 안에 값이 없어서 넘어감')\n",
        "      if start_number*n >upper:\n",
        "        n=1\n",
        "        break\n",
        "      else:\n",
        "        n +=1\n",
        "        pass\n",
        "  try:\n",
        "    #print('numbers배열의 첫번째 값',numbers[0])\n",
        "    start_number =numbers[0]\n",
        "  except:\n",
        "    pass\n",
        "  if len(numbers)==0:\n",
        "    break\n",
        "#print(numbers)\n",
        "#print(prime_numbers)\n",
        "\n",
        "#####################속도가 너무 느리다... 코드를 좀 더 최적화해야겠어..."
      ],
      "execution_count": null,
      "outputs": [
        {
          "output_type": "stream",
          "text": [
            "3 16\n",
            "2\n",
            "3\n",
            "5\n",
            "7\n",
            "11\n",
            "13\n"
          ],
          "name": "stdout"
        }
      ]
    },
    {
      "cell_type": "code",
      "metadata": {
        "colab": {
          "base_uri": "https://localhost:8080/"
        },
        "id": "QA0LL7_cnDIM",
        "outputId": "92748767-9155-41e9-cfbf-02fc52f29902"
      },
      "source": [
        "#By JourneyJi\n",
        "#소수 구하기\n",
        "\n",
        "#에라토스테네스의 체 방법을 이용해보자.\n",
        "#규칙1# 찾고자 하는 범위의 자연수를 나열\n",
        "#규칙2# 2부터 시작하여, 2의 배수를 지워나간다.\n",
        "#규칙3# 다음 소수의 배수를 모두 지운다.\n",
        "#2,3,4,5,6,7,8,9,.... 소수 =2\n",
        "#3,5,7,9,.... 소수 = 3\n",
        "#5,7,.... 소수 =5\n",
        "#7,....\n",
        "\n",
        "M,N =map(int,input().split())\n",
        "#~N까지의 리스트를 생성한다.\n",
        "a=[False,False] + [True]*(N-1)\n",
        "#소수를 담을 리스트 생성\n",
        "primes=[]\n",
        "\n",
        "for i in range(2,N+1):\n",
        "  if a[i]: # True이면\n",
        "    primes.append(i)\n",
        "    #각 배수를 삭제(False)한다.\n",
        "    for j in range(2*i,N+1,i):\n",
        "      a[j] = False\n",
        "for i in range(len(primes)):\n",
        "  if primes[i] >= M:\n",
        "    print(primes[i])\n",
        "print(a)\n",
        "####\n"
      ],
      "execution_count": null,
      "outputs": [
        {
          "output_type": "stream",
          "text": [
            "3 16\n",
            "3\n",
            "5\n",
            "7\n",
            "11\n",
            "13\n",
            "[False, False, True, True, False, True, False, True, False, False, False, True, False, True, False, False, False]\n"
          ],
          "name": "stdout"
        }
      ]
    },
    {
      "cell_type": "code",
      "metadata": {
        "id": "hYd710t79ks3",
        "colab": {
          "base_uri": "https://localhost:8080/",
          "height": 266
        },
        "outputId": "7e7fcd10-d246-47e7-8d8b-c690205b643c"
      },
      "source": [
        "#By JourneyJi\n",
        "#베르트랑 공준\n",
        "\n",
        "#임의의 자연수n에 대하여  n<(최소 하나의 소수)<=2n 식이 성립한다.\n",
        "\n",
        "#(최소 하나의 소수)의 개수를 구하는 프로그램을 작성하시오.\n",
        "#소수를 구하는 코드를 작성후에\n",
        "#소수의 배열을 만들고,\n",
        "#범위안의 소수의 개수를 카운트하여 출력하자.\n",
        "\n",
        "#입력값\n",
        "\n",
        "\n",
        "\n",
        "\n",
        "#입력값과 출력값 반복문\n",
        "while True:\n",
        "  \n",
        "  N=int(input())\n",
        "  #소수를 담을 리스트 생성\n",
        "  #입력값의 2n을 최대범위로 설정해야 함\n",
        "  #리스트의 0번째는 0에대한, 1번째는 1에 대한..\n",
        "  a = [False,False] +[True]*(2*N-1)\n",
        "  #소수를 담을 리스트를 생성\n",
        "  primes = []\n",
        "\n",
        "  if N==0:\n",
        "    break\n",
        "  #소수선별을 위한 반복문\n",
        "  for i in range(2,2*N+1):#2N까지 구해야 함\n",
        "    if a[i]: #첫번째 수이면\n",
        "      if i > N and i <= (2*N):\n",
        "        primes.append(i) #소수로 입력\n",
        "      for j in range(2*i,2*N+1,i): #\n",
        "        a[j] = False\n",
        "  print(len(primes)) #소수의 총 갯수 출력\n",
        "\n",
        "\n",
        "\n"
      ],
      "execution_count": null,
      "outputs": [
        {
          "output_type": "error",
          "ename": "ValueError",
          "evalue": "ignored",
          "traceback": [
            "\u001b[0;31m---------------------------------------------------------------------------\u001b[0m",
            "\u001b[0;31mValueError\u001b[0m                                Traceback (most recent call last)",
            "\u001b[0;32m<ipython-input-17-24b7dfc23130>\u001b[0m in \u001b[0;36m<module>\u001b[0;34m()\u001b[0m\n\u001b[1;32m     19\u001b[0m \u001b[0;34m\u001b[0m\u001b[0m\n\u001b[1;32m     20\u001b[0m   \u001b[0mN\u001b[0m\u001b[0;34m=\u001b[0m\u001b[0msys\u001b[0m\u001b[0;34m.\u001b[0m\u001b[0mstdin\u001b[0m\u001b[0;34m.\u001b[0m\u001b[0mreadline\u001b[0m\u001b[0;34m(\u001b[0m\u001b[0;34m)\u001b[0m\u001b[0;34m\u001b[0m\u001b[0;34m\u001b[0m\u001b[0m\n\u001b[0;32m---> 21\u001b[0;31m   \u001b[0mN\u001b[0m\u001b[0;34m=\u001b[0m\u001b[0mint\u001b[0m\u001b[0;34m(\u001b[0m\u001b[0mN\u001b[0m\u001b[0;34m)\u001b[0m\u001b[0;34m\u001b[0m\u001b[0;34m\u001b[0m\u001b[0m\n\u001b[0m\u001b[1;32m     22\u001b[0m   \u001b[0;31m#소수를 담을 리스트 생성\u001b[0m\u001b[0;34m\u001b[0m\u001b[0;34m\u001b[0m\u001b[0;34m\u001b[0m\u001b[0m\n\u001b[1;32m     23\u001b[0m   \u001b[0;31m#입력값의 2n을 최대범위로 설정해야 함\u001b[0m\u001b[0;34m\u001b[0m\u001b[0;34m\u001b[0m\u001b[0;34m\u001b[0m\u001b[0m\n",
            "\u001b[0;31mValueError\u001b[0m: invalid literal for int() with base 10: ''"
          ]
        }
      ]
    },
    {
      "cell_type": "code",
      "metadata": {
        "colab": {
          "base_uri": "https://localhost:8080/"
        },
        "id": "H9C2PipKo_eN",
        "outputId": "64a87de4-1fcb-4e3a-cb13-e4323ed4f7ff"
      },
      "source": [
        "#By JourneyJi\n",
        "#골드바흐의 추측\n",
        "\n",
        "#모든 짝수는 두 소수의 합으로 나타낼 수 있다.\n",
        "\n",
        "\n",
        "#주어진 n에 대하여 골드바흐 파티션을 구한다.\n",
        "#작은 수부터 출력하며\n",
        "#여러개의 골드바흐 파티션 조합이 있을 경우, 두 소수의 차이가 작은 조합으로 출력한다.\n",
        "\n",
        "\n",
        "#풀이 ..\n",
        "#우선 주어진 수 n보다 작은 소수들을 모두 구하자.\n",
        "#소수 하나(prime_one)를 잡아서 (n-prime_one)을 만족하는 소수가 primes에 있는 지 확인\n",
        "#있다면 prime_one과 해당 소수를 goldbach 리스트에 저장\n",
        "#이때, 작은수부터 탐색을 하며 if문을 통해 이미 goldbach리스트에 저장된 수인지 확인\n",
        "#만약 len(goldbach)가 2보다 크다면\n",
        "#소수set끼리의 차이를 비교\n",
        "\n",
        "import time\n",
        "start = time.time()\n",
        "test_case = int(input())\n",
        "\n",
        "for seq in range(test_case):\n",
        "  #수를 담을 리스트 생성\n",
        "  n= int(input())\n",
        "  a=[False,False] +[True]*(n-1)\n",
        "  primes=[]\n",
        "  goldbach =[0,0]\n",
        "  gap = 10000\n",
        "\n",
        "  #소수 리스트 만들기\n",
        "  for i in range(2,n+1):\n",
        "    if a[i]: #True이면\n",
        "      primes.append(i)\n",
        "      for j in range(2*i,n+1,i):\n",
        "        a[j]=False\n",
        "\n",
        "  \n",
        "\n",
        "  for i in range(len(primes)):\n",
        "    if n-primes[i] in primes: #primes[i]와 더해서 n이될 수가 있는지?\n",
        "      if primes[i] not in goldbach: #primes[i]에 존재하지 않는 수인지?\n",
        "        if gap> abs((n-primes[i])-primes[i]): #차이가 이전의 차이보다 작다면 저장\n",
        "          goldbach[0]=primes[i]\n",
        "          goldbach[1]=n-primes[i]\n",
        "          gap = abs((n-primes[i])-primes[i])\n",
        "    else:\n",
        "      continue\n",
        "  print(goldbach[0],goldbach[1])\n",
        "\n",
        "#시간초과....ㅠㅠㅠ"
      ],
      "execution_count": null,
      "outputs": [
        {
          "output_type": "stream",
          "text": [
            "3\n",
            "8\n",
            "3 5\n",
            "10\n",
            "5 5\n",
            "16\n",
            "5 11\n"
          ],
          "name": "stdout"
        }
      ]
    },
    {
      "cell_type": "code",
      "metadata": {
        "colab": {
          "base_uri": "https://localhost:8080/"
        },
        "id": "m5GHZmZ0GNBn",
        "outputId": "953befff-bef3-4b30-d4fd-782d7ce9ff9c"
      },
      "source": [
        "\n",
        "#골드바흐의 추측\n",
        "\n",
        "#모든 짝수는 두 소수의 합으로 나타낼 수 있다.\n",
        "\n",
        "\n",
        "#주어진 n에 대하여 골드바흐 파티션을 구한다.\n",
        "#작은 수부터 출력하며\n",
        "#여러개의 골드바흐 파티션 조합이 있을 경우, 두 소수의 차이가 작은 조합으로 출력한다.\n",
        "\n",
        "\n",
        "#풀이 ..\n",
        "#우선 주어진 수 n보다 작은 소수들을 모두 구하자.\n",
        "#소수 하나(prime_one)를 잡아서 (n-prime_one)을 만족하는 소수가 primes에 있는 지 확인\n",
        "#있다면 prime_one과 해당 소수를 goldbach 리스트에 저장\n",
        "#이때, n/2 보다 작은수들 중에서, 큰 수부터 작은수 순서로 탐색\n",
        "#소수를 확인하고 바로 출력\n",
        "\n",
        "\n",
        "\n",
        "\n",
        "def make_primes(n):\n",
        "  a = [False,False] +[True]*(n-1)\n",
        "  primes=[]\n",
        "  #소수 리스트 만들기\n",
        "  for i in range(2,n+1):\n",
        "    if a[i]: #True이면\n",
        "      primes.append(i)\n",
        "      for j in range(2*i,n+1,i):\n",
        "        a[j]=False\n",
        "  return [i for i in range(2,n) if a[i] == True]\n",
        "\n",
        "\n",
        "\n",
        "def prime_set(n):\n",
        "  li = make_primes(n)\n",
        "  length = max([i for i in range(len(li)) if li[i]<=n/2])\n",
        "  for i in range(length, -1,-1):\n",
        "    for j in range(i,len(li)):\n",
        "      if li[i]+li[j] ==n:\n",
        "        return [li[i], li[j]]\n",
        "\n",
        "for _ in range(int(input())):\n",
        "  n = int(input())\n",
        "  print(\" \".join(map(str,prime_set(n))))"
      ],
      "execution_count": null,
      "outputs": [
        {
          "output_type": "stream",
          "text": [
            "3\n",
            "8\n",
            "3 5\n",
            "10\n",
            "5 5\n",
            "16\n",
            "5 11\n"
          ],
          "name": "stdout"
        }
      ]
    },
    {
      "cell_type": "code",
      "metadata": {
        "id": "uc1kyFejcit-",
        "colab": {
          "base_uri": "https://localhost:8080/"
        },
        "outputId": "755ddd55-d8d6-4169-ba6b-a2a38750625f"
      },
      "source": [
        "#By JourneyJi\n",
        "#직사각형에서 탈출\n",
        "\n",
        "#현 위치(x,y)와 오른쪽 위 꼭짓점(w,h)가 주어진다. \n",
        "#왼쪽아래 꼭짓점은 (0,0)이다.\n",
        "#x는 w보다 작고, y는 h보다 작다.\n",
        "#직사각형의 경계선까지 가는 거리의 최솟값을 구하라.\n",
        "\n",
        "#|\n",
        "#|\n",
        "#|\n",
        "#|\n",
        "#ㄴㅡㅡㅡㅡㅡㅡㅡㅡㅡㅡㅡㅡㅡㅡㅡㅡ\n",
        "#좌표평면 1사분면위.\n",
        "\n",
        "#w,h로 각 직사각형의 경계를 만들 수 있다.\n",
        "# x=w, y=h, y=0, x=0 네 개의 경계가 생긴다.\n",
        "# (x,y)에서 경계까지 갈 수 있는 방법은 총 4개\n",
        "# 1번# w-x\n",
        "# 2번# x-0\n",
        "# 3번# y-0\n",
        "# 4번# h-y\n",
        "\n",
        "#입력값 받기\n",
        "\n",
        "x, y, w, h = map(int,input().split())\n",
        "d = min([w-x,w,y,h-y]) #거리 d = 4개의 거리중 가장 짧은 것\n",
        "print(x,y,w,h)\n",
        "print(w-x,x,y,h-y)\n",
        "print(d)"
      ],
      "execution_count": null,
      "outputs": [
        {
          "output_type": "stream",
          "text": [
            "6 2 10 3\n",
            "6 2 10 3\n",
            "4 6 2 1\n",
            "1\n"
          ],
          "name": "stdout"
        }
      ]
    },
    {
      "cell_type": "code",
      "metadata": {
        "colab": {
          "base_uri": "https://localhost:8080/"
        },
        "id": "xLZt7K9Q8_B2",
        "outputId": "abcaaadf-9f78-468f-8057-3ce36b1d6865"
      },
      "source": [
        "#By JourneyJi\n",
        "#네 번째 점\n",
        "\n",
        "# 점 세개가 주어졌을 때, 축에 평행한 직사각형을 만들기 위해서 필요한 네 번째 점을 찾아라\n",
        "\n",
        "# 네 점이 축에 평행하면서 직사각형이려면 ?\n",
        "# 네 개의 점중 2개의 x좌표가 같아야 하며, \n",
        "# 2개의 y좌표가 같아야 한다.\n",
        "\n",
        "ax,ay = map(int,input().split())\n",
        "bx,by = map(int,input().split())\n",
        "cx,cy = map(int,input().split())\n",
        "x_list=[ax,bx,cx]\n",
        "y_list=[ay,by,cy]\n",
        "\n",
        "dx = [x_list[i] for i in range(3) if x_list.count(x_list[i])==1]\n",
        "dy = [y_list[i] for i in range(3) if y_list.count(y_list[i])==1]\n",
        "print(dx[0],dy[0])\n",
        "\n",
        "\n"
      ],
      "execution_count": null,
      "outputs": [
        {
          "output_type": "stream",
          "text": [
            "30 20\n",
            "10 10\n",
            "10 20\n",
            "30 10\n"
          ],
          "name": "stdout"
        }
      ]
    },
    {
      "cell_type": "code",
      "metadata": {
        "colab": {
          "base_uri": "https://localhost:8080/"
        },
        "id": "rbIqEObk_N-2",
        "outputId": "3cb457ea-6c01-496e-d210-b294477908ed"
      },
      "source": [
        "#By Journey Ji\n",
        "#직각삼각형\n",
        "\n",
        "#주어지는 세 변의 길이를 통해 직각 삼각형 여부를 판별하라.\n",
        "# a**2 + b**2 = c**2 공식을 이용\n",
        "\n",
        "while True:\n",
        "  numlist = list(map(int,input().split()))\n",
        "  numlist.sort()\n",
        "  if (numlist[0],numlist[1],numlist[2]) ==(0,0,0):\n",
        "    break\n",
        "  if numlist[0]*numlist[0]+numlist[1]*numlist[1] == numlist[2]*numlist[2]:\n",
        "    print('right')\n",
        "  else:\n",
        "    print('wrong')\n"
      ],
      "execution_count": null,
      "outputs": [
        {
          "output_type": "stream",
          "text": [
            "3 8 1\n",
            "[1, 3, 8]\n",
            "wrong\n",
            "60 52 25\n",
            "[25, 52, 60]\n",
            "wrong\n",
            "5 13 12\n",
            "[5, 12, 13]\n",
            "right\n",
            "0 0 0\n",
            "[0, 0, 0]\n"
          ],
          "name": "stdout"
        }
      ]
    },
    {
      "cell_type": "code",
      "metadata": {
        "id": "OEY0OTA6CYAl"
      },
      "source": [
        "#By JourneyJi\n",
        "#택시 기하학\n",
        "\n",
        "# 유클리드 기하학에서의 원의 넓이 구하는 공식\n",
        "# 파이*(r**2)\n",
        "# 택시 기하학에서의 원의 "
      ],
      "execution_count": null,
      "outputs": []
    },
    {
      "cell_type": "code",
      "metadata": {
        "colab": {
          "base_uri": "https://localhost:8080/",
          "height": 504
        },
        "id": "r3N76rgHJU7E",
        "outputId": "f5ca6063-0d51-47c0-8a26-f6ec8bf46758"
      },
      "source": [
        "#By JourneyJi\n",
        "#터렛\n",
        "\n",
        "#자신의 터렛 위치에서 현재 적까지의 거리를 계산\n",
        "#(x1,y1)에서 류재명까지의 거리와 (x2,y2)에서 류재명까지의 거리 r1,r2가 주어졌을 때,\n",
        "#류재명이 존재 가능한 좌표의 수를 출력하라\n",
        "# d = (abs(xi-xj)**2+abs(yi-yj)**2)**(0.5)\n",
        "\n",
        "import time\n",
        "\n",
        "#범위는 x,y +,- r거리 이상으로 늘어날 수가 없으니 그렇게 제한해줌(연산속도를위해)\n",
        "\n",
        "# 함수 : 가능한 점을  찾기 \n",
        "def find_spots(x,y,r):\n",
        "  spot_list=[]  \n",
        "  for i in range(x-r,x+r+1):\n",
        "    for j in range(y-r,y+r+1):\n",
        "       if (abs(x-i)**2 + abs(y-j)**2) == r**2:\n",
        "         spot_list.append((i,j))\n",
        "  return spot_list\n",
        "\n",
        "\n",
        "# 함수 : 리스트 비교하기\n",
        "def compare_spot(list1,list2) ->list:\n",
        "  cnt = 0\n",
        "  for i in range(len(list1)):\n",
        "    for j in range(len(list2)):\n",
        "      if list1[i] ==list2[j]:\n",
        "        cnt +=1\n",
        "  return cnt\n",
        "\n",
        "for _ in range(int(input())):\n",
        "  x1,y1,r1,x2,y2,r2 = map(int,input().split())\n",
        "  start = time.time()\n",
        "  if (x1,y1,r1) ==(x2,y2,r2):\n",
        "    print('-1')\n",
        "    print(\"경과시간 : \",time.time()-start)\n",
        "  else:\n",
        "    print(compare_spot(find_spots(x1,y1,r1),find_spots(x2,y2,r2)))\n",
        "    print(\"경과시간 : \",time.time()-start)\n",
        "\n",
        "\n",
        "# 모든 점의 경우의 수를 계산하게 되면 너무 오래 걸린다.\n",
        "\n",
        "# 음... 어쨌든 거리가 주어졌으니 원이 그려질 수 있고,\n",
        "# 경우1# 두 원이 서로 완벽하게 겹친다. --> 두 점과 r1,r2가 같을 경우\n",
        "# 경우2# 두 원이 두 점에서 교차한다. ---> 두 중심사이의 거리<r1+r2\n",
        "# 경우3# 두 원이 한 점에서 접한다.  --->두 중심사이의 거리 = r1+r2\n",
        "# 경우4# 두 원이 만나지 않는다.     --->두 중심사이의 거리>r1+r2"
      ],
      "execution_count": null,
      "outputs": [
        {
          "output_type": "stream",
          "text": [
            "5\n",
            "8585 2329 304 2133 2221 205\n",
            "0\n",
            "경과시간 :  0.4657416343688965\n",
            "9999 9999 9999 9999 9999 9999\n",
            "-1\n",
            "경과시간 :  0.00013756752014160156\n",
            "9999 9999 9999 9999 -9999 9999\n"
          ],
          "name": "stdout"
        },
        {
          "output_type": "error",
          "ename": "KeyboardInterrupt",
          "evalue": "ignored",
          "traceback": [
            "\u001b[0;31m---------------------------------------------------------------------------\u001b[0m",
            "\u001b[0;31mKeyboardInterrupt\u001b[0m                         Traceback (most recent call last)",
            "\u001b[0;32m<ipython-input-61-f0aa7ca4280d>\u001b[0m in \u001b[0;36m<module>\u001b[0;34m()\u001b[0m\n\u001b[1;32m     37\u001b[0m     \u001b[0mprint\u001b[0m\u001b[0;34m(\u001b[0m\u001b[0;34m\"경과시간 : \"\u001b[0m\u001b[0;34m,\u001b[0m\u001b[0mtime\u001b[0m\u001b[0;34m.\u001b[0m\u001b[0mtime\u001b[0m\u001b[0;34m(\u001b[0m\u001b[0;34m)\u001b[0m\u001b[0;34m-\u001b[0m\u001b[0mstart\u001b[0m\u001b[0;34m)\u001b[0m\u001b[0;34m\u001b[0m\u001b[0;34m\u001b[0m\u001b[0m\n\u001b[1;32m     38\u001b[0m   \u001b[0;32melse\u001b[0m\u001b[0;34m:\u001b[0m\u001b[0;34m\u001b[0m\u001b[0;34m\u001b[0m\u001b[0m\n\u001b[0;32m---> 39\u001b[0;31m     \u001b[0mprint\u001b[0m\u001b[0;34m(\u001b[0m\u001b[0mcompare_spot\u001b[0m\u001b[0;34m(\u001b[0m\u001b[0mfind_spots\u001b[0m\u001b[0;34m(\u001b[0m\u001b[0mx1\u001b[0m\u001b[0;34m,\u001b[0m\u001b[0my1\u001b[0m\u001b[0;34m,\u001b[0m\u001b[0mr1\u001b[0m\u001b[0;34m)\u001b[0m\u001b[0;34m,\u001b[0m\u001b[0mfind_spots\u001b[0m\u001b[0;34m(\u001b[0m\u001b[0mx2\u001b[0m\u001b[0;34m,\u001b[0m\u001b[0my2\u001b[0m\u001b[0;34m,\u001b[0m\u001b[0mr2\u001b[0m\u001b[0;34m)\u001b[0m\u001b[0;34m)\u001b[0m\u001b[0;34m)\u001b[0m\u001b[0;34m\u001b[0m\u001b[0;34m\u001b[0m\u001b[0m\n\u001b[0m\u001b[1;32m     40\u001b[0m     \u001b[0mprint\u001b[0m\u001b[0;34m(\u001b[0m\u001b[0;34m\"경과시간 : \"\u001b[0m\u001b[0;34m,\u001b[0m\u001b[0mtime\u001b[0m\u001b[0;34m.\u001b[0m\u001b[0mtime\u001b[0m\u001b[0;34m(\u001b[0m\u001b[0;34m)\u001b[0m\u001b[0;34m-\u001b[0m\u001b[0mstart\u001b[0m\u001b[0;34m)\u001b[0m\u001b[0;34m\u001b[0m\u001b[0;34m\u001b[0m\u001b[0m\n",
            "\u001b[0;32m<ipython-input-61-f0aa7ca4280d>\u001b[0m in \u001b[0;36mfind_spots\u001b[0;34m(x, y, r)\u001b[0m\n\u001b[1;32m     16\u001b[0m   \u001b[0;32mfor\u001b[0m \u001b[0mi\u001b[0m \u001b[0;32min\u001b[0m \u001b[0mrange\u001b[0m\u001b[0;34m(\u001b[0m\u001b[0mx\u001b[0m\u001b[0;34m-\u001b[0m\u001b[0mr\u001b[0m\u001b[0;34m,\u001b[0m\u001b[0mx\u001b[0m\u001b[0;34m+\u001b[0m\u001b[0mr\u001b[0m\u001b[0;34m+\u001b[0m\u001b[0;36m1\u001b[0m\u001b[0;34m)\u001b[0m\u001b[0;34m:\u001b[0m\u001b[0;34m\u001b[0m\u001b[0;34m\u001b[0m\u001b[0m\n\u001b[1;32m     17\u001b[0m     \u001b[0;32mfor\u001b[0m \u001b[0mj\u001b[0m \u001b[0;32min\u001b[0m \u001b[0mrange\u001b[0m\u001b[0;34m(\u001b[0m\u001b[0my\u001b[0m\u001b[0;34m-\u001b[0m\u001b[0mr\u001b[0m\u001b[0;34m,\u001b[0m\u001b[0my\u001b[0m\u001b[0;34m+\u001b[0m\u001b[0mr\u001b[0m\u001b[0;34m+\u001b[0m\u001b[0;36m1\u001b[0m\u001b[0;34m)\u001b[0m\u001b[0;34m:\u001b[0m\u001b[0;34m\u001b[0m\u001b[0;34m\u001b[0m\u001b[0m\n\u001b[0;32m---> 18\u001b[0;31m        \u001b[0;32mif\u001b[0m \u001b[0;34m(\u001b[0m\u001b[0mabs\u001b[0m\u001b[0;34m(\u001b[0m\u001b[0mx\u001b[0m\u001b[0;34m-\u001b[0m\u001b[0mi\u001b[0m\u001b[0;34m)\u001b[0m\u001b[0;34m**\u001b[0m\u001b[0;36m2\u001b[0m \u001b[0;34m+\u001b[0m \u001b[0mabs\u001b[0m\u001b[0;34m(\u001b[0m\u001b[0my\u001b[0m\u001b[0;34m-\u001b[0m\u001b[0mj\u001b[0m\u001b[0;34m)\u001b[0m\u001b[0;34m**\u001b[0m\u001b[0;36m2\u001b[0m\u001b[0;34m)\u001b[0m \u001b[0;34m==\u001b[0m \u001b[0mr\u001b[0m\u001b[0;34m**\u001b[0m\u001b[0;36m2\u001b[0m\u001b[0;34m:\u001b[0m\u001b[0;34m\u001b[0m\u001b[0;34m\u001b[0m\u001b[0m\n\u001b[0m\u001b[1;32m     19\u001b[0m          \u001b[0mspot_list\u001b[0m\u001b[0;34m.\u001b[0m\u001b[0mappend\u001b[0m\u001b[0;34m(\u001b[0m\u001b[0;34m(\u001b[0m\u001b[0mi\u001b[0m\u001b[0;34m,\u001b[0m\u001b[0mj\u001b[0m\u001b[0;34m)\u001b[0m\u001b[0;34m)\u001b[0m\u001b[0;34m\u001b[0m\u001b[0;34m\u001b[0m\u001b[0m\n\u001b[1;32m     20\u001b[0m   \u001b[0;32mreturn\u001b[0m \u001b[0mspot_list\u001b[0m\u001b[0;34m\u001b[0m\u001b[0;34m\u001b[0m\u001b[0m\n",
            "\u001b[0;31mKeyboardInterrupt\u001b[0m: "
          ]
        }
      ]
    },
    {
      "cell_type": "code",
      "metadata": {
        "colab": {
          "base_uri": "https://localhost:8080/"
        },
        "id": "H7NH76GVMZwf",
        "outputId": "8660bb16-74bb-4f8b-f5da-4c959f428396"
      },
      "source": [
        "#By JourneyJi\n",
        "#터렛\n",
        "\n",
        "# 모든 점의 경우의 수를 계산하게 되면 너무 오래 걸린다.\n",
        "\n",
        "# 음... 어쨌든 거리가 주어졌으니 원이 그려질 수 있고,\n",
        "# 경우1# 두 원이 서로 완벽하게 겹친다. --> 두 점과 r1,r2가 같을 경우\n",
        "# 경우2# 두 원이 두 점에서 교차한다. ---> 두 중심사이의 거리<r1+r2\n",
        "# 경우3# 두 원이 한 점에서 접한다.  --->두 중심사이의 거리 = r1+r2\n",
        "# 경우4# 두 원이 만나지 않는다.     --->두 중심사이의 거리>r1+r2\n",
        "# 위의 경우를 두 중심이 겹쳐져 있을 때와, 겹쳐져 있지 않을 때로 나누어 작성\n",
        "for _ in range(int(input())):  \n",
        "  x1,y1,r1,x2,y2,r2 = map(int,input().split())\n",
        "  d = ((x1-x2)**2 + (y1-y2)**2)**0.5 \n",
        "  R = [r1,r2,d]\n",
        "  m = max(R)\n",
        "  R.remove(m)\n",
        "  if (d ==0 and r1==r2):\n",
        "    print('-1')\n",
        "  elif (d ==(r1+r2) or m==sum(R)):\n",
        "    print('1')\n",
        "  elif (m>sum(R)):\n",
        "    print('0')\n",
        "  else:\n",
        "    print('2')\n",
        "\n",
        "##value error가 뜸..."
      ],
      "execution_count": 11,
      "outputs": [
        {
          "output_type": "stream",
          "text": [
            "1\n",
            "1 1 1 1 1 5\n",
            "0\n"
          ],
          "name": "stdout"
        }
      ]
    },
    {
      "cell_type": "code",
      "metadata": {
        "id": "ePpAz9XMcmcF"
      },
      "source": [
        ""
      ],
      "execution_count": null,
      "outputs": []
    }
  ]
}