{
  "nbformat": 4,
  "nbformat_minor": 0,
  "metadata": {
    "colab": {
      "name": "BOJ 재귀.ipynb",
      "provenance": [],
      "authorship_tag": "ABX9TyOZKt52v1s3JukGk5254PcO",
      "include_colab_link": true
    },
    "kernelspec": {
      "name": "python3",
      "display_name": "Python 3"
    }
  },
  "cells": [
    {
      "cell_type": "markdown",
      "metadata": {
        "id": "view-in-github",
        "colab_type": "text"
      },
      "source": [
        "<a href=\"https://colab.research.google.com/github/journey-Ji/Python-BOJ-example/blob/main/BOJ_%EC%9E%AC%EA%B7%80.ipynb\" target=\"_parent\"><img src=\"https://colab.research.google.com/assets/colab-badge.svg\" alt=\"Open In Colab\"/></a>"
      ]
    },
    {
      "cell_type": "code",
      "metadata": {
        "colab": {
          "base_uri": "https://localhost:8080/"
        },
        "id": "HoEktwVsWDFu",
        "outputId": "6433bb53-d260-4c0f-d66c-72c7d3bcccfb"
      },
      "source": [
        "#By JourneyJi\n",
        "#팩토리얼\n",
        "\n",
        "\n",
        "#0보다 크거나 같은 정수 N이 주어질 때,\n",
        "# n!을 출력하시오 !\n",
        "\n",
        "N = int(input())\n",
        "result = 1\n",
        "for i in range(1,N+1):\n",
        "  result = result *i\n",
        "\n",
        "print(result)"
      ],
      "execution_count": 4,
      "outputs": [
        {
          "output_type": "stream",
          "text": [
            "10\n",
            "1*1 +\n",
            "2*2 +\n",
            "6*3 +\n",
            "24*4 +\n",
            "120*5 +\n",
            "720*6 +\n",
            "5040*7 +\n",
            "40320*8 +\n",
            "362880*9 +\n",
            "3628800*10 +\n",
            "3628800\n"
          ],
          "name": "stdout"
        }
      ]
    },
    {
      "cell_type": "code",
      "metadata": {
        "colab": {
          "base_uri": "https://localhost:8080/"
        },
        "id": "T2h0tyjkWp9c",
        "outputId": "f6020b5e-e2ff-4154-9bfc-16b5c3f03b41"
      },
      "source": [
        "#By JourneyJi\n",
        "#피보나치 수 5\n",
        "\n",
        "#n이 주어졌을 때, n번째 피보나치 수를 구하는 프로그램을 작성\n",
        "#피보나치 수 = 0 1 1 2 3 5 8 13 21 34 55 89 등 Fn= F(n-1) + F(n-2) 로 구성\n",
        "#첫번째 피보나치 수 = 1\n",
        "# 0<= n <= 20\n",
        "import time\n",
        "start = time.time()\n",
        "n = int(input())\n",
        "\n",
        "\n",
        "result = [0,1]\n",
        "\n",
        "for i in range(2,n+1):\n",
        "  result.append(result[i-1]+result[i-2])\n",
        "\n",
        "print(result[n])\n",
        "print(time.time()-start)"
      ],
      "execution_count": 10,
      "outputs": [
        {
          "output_type": "stream",
          "text": [
            "20\n",
            "6765\n",
            "1.427269458770752\n"
          ],
          "name": "stdout"
        }
      ]
    },
    {
      "cell_type": "code",
      "metadata": {
        "colab": {
          "base_uri": "https://localhost:8080/"
        },
        "id": "fxDdk-LnZN9C",
        "outputId": "765d0c85-0ea5-4489-b984-54c9233dc46b"
      },
      "source": [
        "#By JourneyJi\n",
        "#별 찍기 - 10\n",
        "\n",
        "\n",
        "# 정수를 입력받고,,\n",
        "# 해당 정수는 N/3에 해당하는 중간의 공간을 가짐\n",
        "# 그리고 각 주위는 N/3 * N/3의 패턴으로 다시 형성된다.\n",
        "# N은 3의 거듭제곱 꼴로 받아옴 \n",
        "\n",
        "# 별 찍는 재귀 함수 통해서 리스트 설정\n",
        "def draw_star(n):\n",
        "  global Map\n",
        "\n",
        "  if n == 3: # n==3이면 가장 기초적인 패턴 생성\n",
        "    Map[0][:3] = Map[2][:3] = [1]*3\n",
        "    Map[1][:3] = [1,0,1]\n",
        "    return\n",
        "  \n",
        "  a = n//3 # 몫을 반환 ! \n",
        "  draw_star(n//3) #자기 자신을 다시 부름\n",
        "  for i in range(3):\n",
        "    for j in range(3):\n",
        "      if i == 1 and j == 1:\n",
        "        continue\n",
        "      for k in range(a):\n",
        "        Map[a*i+k][a*j:a*(j+1)] = Map[k][:a] ############\n",
        "        ### 그러니까 한 배열의 [i][j]위치에 기본 패턴을 대입\n",
        "        ### 이 동작을 반복\n",
        "N = int(input())\n",
        "\n",
        "# 리스트 선언\n",
        "Map = [[0 for i in range(N)] for i in range(N)]\n",
        "\n",
        "draw_star(N)\n",
        "\n",
        "# 1위치에는 별찍고, 0위치에는 공백 찍기\n",
        "for i in Map:\n",
        "  for j in i:\n",
        "    if j :\n",
        "      print('*', end='')\n",
        "    else:\n",
        "      print(' ', end='')\n",
        "  print()"
      ],
      "execution_count": 15,
      "outputs": [
        {
          "output_type": "stream",
          "text": [
            "9\n",
            "*********\n",
            "* ** ** *\n",
            "*********\n",
            "***   ***\n",
            "* *   * *\n",
            "***   ***\n",
            "*********\n",
            "* ** ** *\n",
            "*********\n"
          ],
          "name": "stdout"
        }
      ]
    },
    {
      "cell_type": "code",
      "metadata": {
        "id": "MA1aExUOmUEn"
      },
      "source": [
        "#By Journey Ji\n",
        "#하노이 탑 이동 순서\n",
        "\n"
      ],
      "execution_count": null,
      "outputs": []
    },
    {
      "cell_type": "code",
      "metadata": {
        "id": "QZo5UNVThbdm"
      },
      "source": [
        ""
      ],
      "execution_count": null,
      "outputs": []
    }
  ]
}